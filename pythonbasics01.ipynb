{
  "nbformat": 4,
  "nbformat_minor": 0,
  "metadata": {
    "colab": {
      "provenance": [],
      "authorship_tag": "ABX9TyPXw3UK2icngLyQji+oE64r",
      "include_colab_link": true
    },
    "kernelspec": {
      "name": "python3",
      "display_name": "Python 3"
    },
    "language_info": {
      "name": "python"
    }
  },
  "cells": [
    {
      "cell_type": "markdown",
      "metadata": {
        "id": "view-in-github",
        "colab_type": "text"
      },
      "source": [
        "<a href=\"https://colab.research.google.com/github/ijajahmed23/pythonbasics/blob/main/pythonbasics01.ipynb\" target=\"_parent\"><img src=\"https://colab.research.google.com/assets/colab-badge.svg\" alt=\"Open In Colab\"/></a>"
      ]
    },
    {
      "cell_type": "code",
      "execution_count": null,
      "metadata": {
        "colab": {
          "base_uri": "https://localhost:8080/"
        },
        "id": "iVDRsML7I7h1",
        "outputId": "c56ee484-b336-4c5f-9147-68ebe0c77f10"
      },
      "outputs": [
        {
          "output_type": "execute_result",
          "data": {
            "text/plain": [
              "2"
            ]
          },
          "metadata": {},
          "execution_count": 2
        }
      ],
      "source": [
        "1+1"
      ]
    },
    {
      "cell_type": "code",
      "source": [
        "type('pri')"
      ],
      "metadata": {
        "colab": {
          "base_uri": "https://localhost:8080/"
        },
        "id": "9G0osx3aJOja",
        "outputId": "a10ca629-5521-492c-95dc-98b8a33404b4"
      },
      "execution_count": 1,
      "outputs": [
        {
          "output_type": "execute_result",
          "data": {
            "text/plain": [
              "str"
            ]
          },
          "metadata": {},
          "execution_count": 1
        }
      ]
    },
    {
      "cell_type": "code",
      "source": [
        "a=10\n"
      ],
      "metadata": {
        "id": "3cskwQuzkP9y"
      },
      "execution_count": 4,
      "outputs": []
    },
    {
      "cell_type": "code",
      "source": [
        "a+5"
      ],
      "metadata": {
        "colab": {
          "base_uri": "https://localhost:8080/"
        },
        "id": "Af3CMmsckiMa",
        "outputId": "ec0b93cd-d379-402d-b429-f2071d74700b"
      },
      "execution_count": 7,
      "outputs": [
        {
          "output_type": "execute_result",
          "data": {
            "text/plain": [
              "15"
            ]
          },
          "metadata": {},
          "execution_count": 7
        }
      ]
    },
    {
      "cell_type": "code",
      "source": [
        "print(a+5)"
      ],
      "metadata": {
        "colab": {
          "base_uri": "https://localhost:8080/"
        },
        "id": "9Bj06kNmkoKz",
        "outputId": "7d167d54-757d-401a-a055-56d8dc8ba115"
      },
      "execution_count": 8,
      "outputs": [
        {
          "output_type": "stream",
          "name": "stdout",
          "text": [
            "15\n"
          ]
        }
      ]
    },
    {
      "cell_type": "code",
      "source": [
        "print(\"hello woeld\")"
      ],
      "metadata": {
        "colab": {
          "base_uri": "https://localhost:8080/"
        },
        "id": "kIiISN0qkqdY",
        "outputId": "0cb0aab8-cf7e-4ee7-a57c-1bc293d9b74f"
      },
      "execution_count": 10,
      "outputs": [
        {
          "output_type": "stream",
          "name": "stdout",
          "text": [
            "hello woeld\n"
          ]
        }
      ]
    },
    {
      "cell_type": "code",
      "source": [
        "# \n",
        "'''single line n multi line\n",
        "jdhdh'''\n",
        "print(a+10)"
      ],
      "metadata": {
        "colab": {
          "base_uri": "https://localhost:8080/"
        },
        "id": "ovJ5sUnDlf5G",
        "outputId": "adbd6e55-d805-4492-f701-580fbb6cd737"
      },
      "execution_count": 12,
      "outputs": [
        {
          "output_type": "stream",
          "name": "stdout",
          "text": [
            "20\n"
          ]
        }
      ]
    },
    {
      "cell_type": "code",
      "source": [
        "print(type(10*'str'))"
      ],
      "metadata": {
        "colab": {
          "base_uri": "https://localhost:8080/"
        },
        "id": "lc3gG4kRl8n1",
        "outputId": "685bbd5b-305b-4c7a-b31a-19ec287a51b0"
      },
      "execution_count": 19,
      "outputs": [
        {
          "output_type": "stream",
          "name": "stdout",
          "text": [
            "<class 'str'>\n"
          ]
        }
      ]
    },
    {
      "cell_type": "code",
      "source": [
        "b=10.59\n",
        "print(b)\n",
        "print(type(int(b)))"
      ],
      "metadata": {
        "colab": {
          "base_uri": "https://localhost:8080/"
        },
        "id": "dibr-lFNnFtY",
        "outputId": "53a5f0bf-2071-4b8a-9db4-71109e845377"
      },
      "execution_count": 24,
      "outputs": [
        {
          "output_type": "stream",
          "name": "stdout",
          "text": [
            "10.59\n",
            "<class 'int'>\n"
          ]
        }
      ]
    },
    {
      "cell_type": "code",
      "source": [
        "a1=True\n",
        "b1=False"
      ],
      "metadata": {
        "id": "JjE2QCRJneYx"
      },
      "execution_count": 26,
      "outputs": []
    },
    {
      "cell_type": "code",
      "source": [
        "print(a1)\n",
        "print(b1)\n",
        "print(type(b1))\n",
        "type(print(type(a1)))\n",
        "print(type(print(type(a1))))"
      ],
      "metadata": {
        "colab": {
          "base_uri": "https://localhost:8080/"
        },
        "id": "87L-w8r2nlJE",
        "outputId": "4838609c-6520-4e82-b55c-0cac3b03f253"
      },
      "execution_count": 33,
      "outputs": [
        {
          "output_type": "stream",
          "name": "stdout",
          "text": [
            "True\n",
            "False\n",
            "<class 'bool'>\n",
            "<class 'bool'>\n",
            "<class 'bool'>\n",
            "<class 'NoneType'>\n"
          ]
        }
      ]
    },
    {
      "cell_type": "code",
      "source": [
        "first_name='Ijaj'\n",
        "last_name='Ahmed'"
      ],
      "metadata": {
        "id": "jnoUrj-0p2WC"
      },
      "execution_count": 34,
      "outputs": []
    },
    {
      "cell_type": "code",
      "source": [
        "print(\"My last name is {a2} and my first name is {a1}\".format(a1=first_name,a2=last_name))"
      ],
      "metadata": {
        "colab": {
          "base_uri": "https://localhost:8080/"
        },
        "id": "vkU1xfvQp9HB",
        "outputId": "0b7d6315-dbe2-44f8-ea8d-82990fa86d2c"
      },
      "execution_count": 42,
      "outputs": [
        {
          "output_type": "stream",
          "name": "stdout",
          "text": [
            "My last name is Ahmed and my first name is Ijaj\n"
          ]
        }
      ]
    },
    {
      "cell_type": "code",
      "source": [
        "a=input(\"Enter first number:\")\n",
        "b=input(\"Enter second number:\")\n",
        "print(\"The sum of {a1} and {b1} is {c}.\".format(a1=a,b1=b,c=(float(a)+float(b))))"
      ],
      "metadata": {
        "colab": {
          "base_uri": "https://localhost:8080/"
        },
        "id": "sRP0DVOYsEMr",
        "outputId": "513b2df0-9ecb-47f2-cb11-82d54acdd61e"
      },
      "execution_count": 49,
      "outputs": [
        {
          "output_type": "stream",
          "name": "stdout",
          "text": [
            "Enter first number:20\n",
            "Enter second number:6\n",
            "The sum of 20 and 6 is 26.0.\n"
          ]
        }
      ]
    },
    {
      "cell_type": "code",
      "source": [
        "age=float(input(\"Enter your age: \"))\n",
        "party=input(\"Which party you want to vote for? \")\n",
        "print(\"Your age is \",age)\n",
        "cutoff=18\n",
        "if(age<18):\n",
        "  print(\"Since your age({a1}) is less than {b1}, you cannot vote.\".format(a1=age,b1=cutoff))\n",
        "elif(party=='CPIM'):\n",
        "    print(\"You are wise\")\n",
        "else:\n",
        "      print(\"You are dumb\")"
      ],
      "metadata": {
        "colab": {
          "base_uri": "https://localhost:8080/"
        },
        "id": "xXMwXXtVwQ8o",
        "outputId": "a6756715-4eca-4d50-8556-2639753a521c"
      },
      "execution_count": 81,
      "outputs": [
        {
          "output_type": "stream",
          "name": "stdout",
          "text": [
            "Enter your age: 45\n",
            "Which party you want to vote for? CPIM\n",
            "Your age is  45.0\n",
            "You are wise\n"
          ]
        }
      ]
    },
    {
      "cell_type": "code",
      "source": [
        "list=[1,2,3,4,5]\n",
        "sum1=0\n",
        "for i in list:\n",
        "  sum1=sum1+i\n",
        "  print(sum1)\n",
        "  \n",
        "print(sum1)"
      ],
      "metadata": {
        "colab": {
          "base_uri": "https://localhost:8080/"
        },
        "id": "me73dsxU7A9C",
        "outputId": "7fe1e5f1-4132-4e7e-f7c7-182d23abe7de"
      },
      "execution_count": 86,
      "outputs": [
        {
          "output_type": "stream",
          "name": "stdout",
          "text": [
            "1\n",
            "3\n",
            "6\n",
            "10\n",
            "15\n",
            "15\n"
          ]
        }
      ]
    },
    {
      "cell_type": "code",
      "source": [
        "list=[1,2,3,4,5,6,7,8,9,10]\n",
        "even_sum=0\n",
        "odd_sum=0\n",
        "for i in list:\n",
        "  if(i%2==0):\n",
        "    even_sum=even_sum+i\n",
        "  else:\n",
        "      odd_sum=odd_sum+i\n",
        "\n",
        "print(\"sum of odd number: {a1}\\nsum of even number: {a2}\".format(a1=even_sum,a2=odd_sum))"
      ],
      "metadata": {
        "colab": {
          "base_uri": "https://localhost:8080/"
        },
        "id": "zCvS0ONG4M8B",
        "outputId": "bf9cb739-9f65-4856-b1d0-4d8f3c6414a2"
      },
      "execution_count": 93,
      "outputs": [
        {
          "output_type": "stream",
          "name": "stdout",
          "text": [
            "sum of odd number: 30\n",
            "sum of even number: 25\n"
          ]
        }
      ]
    },
    {
      "cell_type": "code",
      "source": [
        "i=1\n",
        "even_sum=0\n",
        "odd_sum=0\n",
        "while(i<=10):\n",
        "  if(i%2==0):\n",
        "    if(i==6):\n",
        "       break\n",
        "    even_sum=even_sum+i\n",
        "  else:\n",
        "     odd_sum=odd_sum+i\n",
        "     \n",
        "  i=i+1\n",
        "\n",
        "print(\"Even sum is {a1}\\nOdd sum is {a2}\".format(a1=even_sum,a2=odd_sum))"
      ],
      "metadata": {
        "colab": {
          "base_uri": "https://localhost:8080/"
        },
        "id": "0_MccluhKMgz",
        "outputId": "128232f5-23d6-40ce-8177-cd89827969e2"
      },
      "execution_count": 124,
      "outputs": [
        {
          "output_type": "stream",
          "name": "stdout",
          "text": [
            "Even sum is 6\n",
            "Odd sum is 9\n"
          ]
        }
      ]
    },
    {
      "cell_type": "code",
      "source": [
        "i=0\n",
        "while(i<=10):\n",
        "  print(i)\n",
        "  i=i+1"
      ],
      "metadata": {
        "colab": {
          "base_uri": "https://localhost:8080/"
        },
        "id": "kghCrfGoOScx",
        "outputId": "313532ea-1656-42bd-e97e-bffb8e7243fa"
      },
      "execution_count": 125,
      "outputs": [
        {
          "output_type": "stream",
          "name": "stdout",
          "text": [
            "0\n",
            "1\n",
            "2\n",
            "3\n",
            "4\n",
            "5\n",
            "6\n",
            "7\n",
            "8\n",
            "9\n",
            "10\n"
          ]
        }
      ]
    },
    {
      "cell_type": "code",
      "source": [
        "print(id(i))\n",
        "i1=10\n",
        "print(id(i1))\n",
        "\n",
        "lst=[1,2,3]\n",
        "lst1=[1,2,3]\n",
        "print(id(lst))\n",
        "print(id(lst1))\n"
      ],
      "metadata": {
        "colab": {
          "base_uri": "https://localhost:8080/"
        },
        "id": "Uo2fuDnTZcJt",
        "outputId": "a285d094-6870-40e2-eafd-0d01a3eac083"
      },
      "execution_count": 132,
      "outputs": [
        {
          "output_type": "stream",
          "name": "stdout",
          "text": [
            "9793408\n",
            "9793376\n",
            "140084070490624\n",
            "140084070945856\n"
          ]
        }
      ]
    },
    {
      "cell_type": "code",
      "source": [
        "id(i) is id(i1)\n",
        "\n",
        "type(id(i))"
      ],
      "metadata": {
        "colab": {
          "base_uri": "https://localhost:8080/"
        },
        "id": "hfcrXeUyb-7o",
        "outputId": "98f02620-7325-416a-f3b6-d991166ae96e"
      },
      "execution_count": 135,
      "outputs": [
        {
          "output_type": "execute_result",
          "data": {
            "text/plain": [
              "int"
            ]
          },
          "metadata": {},
          "execution_count": 135
        }
      ]
    },
    {
      "cell_type": "code",
      "source": [
        "id(lst) is not id(lst1)"
      ],
      "metadata": {
        "colab": {
          "base_uri": "https://localhost:8080/"
        },
        "id": "jvas9jNUcWh-",
        "outputId": "6617ade9-95c1-4068-80d1-0e296ce4d1fd"
      },
      "execution_count": 137,
      "outputs": [
        {
          "output_type": "execute_result",
          "data": {
            "text/plain": [
              "True"
            ]
          },
          "metadata": {},
          "execution_count": 137
        }
      ]
    },
    {
      "cell_type": "code",
      "source": [
        "import math"
      ],
      "metadata": {
        "id": "qt70enFNckx7"
      },
      "execution_count": 2,
      "outputs": []
    },
    {
      "cell_type": "code",
      "source": [
        "print(math.ceil(-44.14))\n",
        "math.ceil(43.2)\n",
        "math.floor(43.34)\n",
        "math.floor(-45.7)"
      ],
      "metadata": {
        "colab": {
          "base_uri": "https://localhost:8080/"
        },
        "id": "29AmHEt5_kR7",
        "outputId": "03e4b3b5-5433-4349-8535-38a95112c06e"
      },
      "execution_count": 8,
      "outputs": [
        {
          "output_type": "stream",
          "name": "stdout",
          "text": [
            "-44\n"
          ]
        },
        {
          "output_type": "execute_result",
          "data": {
            "text/plain": [
              "-46"
            ]
          },
          "metadata": {},
          "execution_count": 8
        }
      ]
    },
    {
      "cell_type": "code",
      "source": [
        "print(math.exp(1))"
      ],
      "metadata": {
        "colab": {
          "base_uri": "https://localhost:8080/"
        },
        "id": "xMcKLrA3_3tc",
        "outputId": "d2bc65c8-1905-414e-9ed4-697f74877bf7"
      },
      "execution_count": 10,
      "outputs": [
        {
          "output_type": "stream",
          "name": "stdout",
          "text": [
            "2.718281828459045\n"
          ]
        }
      ]
    },
    {
      "cell_type": "code",
      "source": [
        "abs(-19)"
      ],
      "metadata": {
        "colab": {
          "base_uri": "https://localhost:8080/"
        },
        "id": "F8JcjgfnANDV",
        "outputId": "1d2c01ed-ff33-4f5f-d807-06555878dbbd"
      },
      "execution_count": 12,
      "outputs": [
        {
          "output_type": "execute_result",
          "data": {
            "text/plain": [
              "19"
            ]
          },
          "metadata": {},
          "execution_count": 12
        }
      ]
    },
    {
      "cell_type": "code",
      "source": [
        "print(math.fabs(-34.43))"
      ],
      "metadata": {
        "colab": {
          "base_uri": "https://localhost:8080/"
        },
        "id": "j9iXkMDwAWR3",
        "outputId": "d3726654-dcd0-4796-89c5-f7a09a76fe5d"
      },
      "execution_count": 14,
      "outputs": [
        {
          "output_type": "stream",
          "name": "stdout",
          "text": [
            "34.43\n"
          ]
        }
      ]
    },
    {
      "cell_type": "code",
      "source": [
        "print(math.fabs(12))"
      ],
      "metadata": {
        "colab": {
          "base_uri": "https://localhost:8080/"
        },
        "id": "lQAyUGClAcUR",
        "outputId": "003a0692-b043-435a-e26c-6294a29133a7"
      },
      "execution_count": 17,
      "outputs": [
        {
          "output_type": "stream",
          "name": "stdout",
          "text": [
            "12.0\n"
          ]
        }
      ]
    },
    {
      "cell_type": "code",
      "source": [
        "math.log(1)\n",
        "print(math.log(43))\n",
        "print(math.log10(10))"
      ],
      "metadata": {
        "colab": {
          "base_uri": "https://localhost:8080/"
        },
        "id": "3ne8AjEYAnkI",
        "outputId": "cd193f79-b0b8-4686-fe2e-73b80f378101"
      },
      "execution_count": 21,
      "outputs": [
        {
          "output_type": "stream",
          "name": "stdout",
          "text": [
            "3.7612001156935624\n",
            "1.0\n"
          ]
        }
      ]
    },
    {
      "cell_type": "code",
      "source": [
        "max(1,2,3,65,73)"
      ],
      "metadata": {
        "colab": {
          "base_uri": "https://localhost:8080/"
        },
        "id": "f0wQXD9pBQ4s",
        "outputId": "bc4d8b52-69ac-48ce-c768-dd132879ab70"
      },
      "execution_count": 23,
      "outputs": [
        {
          "output_type": "execute_result",
          "data": {
            "text/plain": [
              "73"
            ]
          },
          "metadata": {},
          "execution_count": 23
        }
      ]
    },
    {
      "cell_type": "code",
      "source": [
        "min(3,5,4,4)"
      ],
      "metadata": {
        "colab": {
          "base_uri": "https://localhost:8080/"
        },
        "id": "4uyRYcFvBWZN",
        "outputId": "ec15c6a3-6b8a-4933-cef9-3f784875d34d"
      },
      "execution_count": 25,
      "outputs": [
        {
          "output_type": "execute_result",
          "data": {
            "text/plain": [
              "3"
            ]
          },
          "metadata": {},
          "execution_count": 25
        }
      ]
    },
    {
      "cell_type": "code",
      "source": [
        "print(math.pow(2,5))"
      ],
      "metadata": {
        "colab": {
          "base_uri": "https://localhost:8080/"
        },
        "id": "HZ_ZIbGNBflv",
        "outputId": "b90f6a35-cd5a-4828-ec53-bc33b22015b9"
      },
      "execution_count": 27,
      "outputs": [
        {
          "output_type": "stream",
          "name": "stdout",
          "text": [
            "32.0\n"
          ]
        }
      ]
    },
    {
      "cell_type": "code",
      "source": [
        "print(math.sqrt(16))"
      ],
      "metadata": {
        "colab": {
          "base_uri": "https://localhost:8080/"
        },
        "id": "c79OQwxPBnTA",
        "outputId": "cc12d306-47bc-4cab-a291-745d66ad4285"
      },
      "execution_count": 29,
      "outputs": [
        {
          "output_type": "stream",
          "name": "stdout",
          "text": [
            "4.0\n"
          ]
        }
      ]
    },
    {
      "cell_type": "code",
      "source": [
        "print(math.sin(0))"
      ],
      "metadata": {
        "colab": {
          "base_uri": "https://localhost:8080/"
        },
        "id": "p6temG0iBuEH",
        "outputId": "d4e1747a-c788-463c-a16c-738733101268"
      },
      "execution_count": 32,
      "outputs": [
        {
          "output_type": "stream",
          "name": "stdout",
          "text": [
            "0.0\n"
          ]
        }
      ]
    },
    {
      "cell_type": "code",
      "source": [
        "print(math.hypot(3,4))"
      ],
      "metadata": {
        "colab": {
          "base_uri": "https://localhost:8080/"
        },
        "id": "4ypM6uRdCD_g",
        "outputId": "0297596d-f573-4d25-8967-86cb4184f5e9"
      },
      "execution_count": 34,
      "outputs": [
        {
          "output_type": "stream",
          "name": "stdout",
          "text": [
            "5.0\n"
          ]
        }
      ]
    },
    {
      "cell_type": "code",
      "source": [
        "math.modf"
      ],
      "metadata": {
        "id": "Oai_tH8fCNpG"
      },
      "execution_count": null,
      "outputs": []
    }
  ]
}